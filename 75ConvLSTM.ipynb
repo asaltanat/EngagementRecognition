{
 "cells": [
  {
   "cell_type": "code",
   "execution_count": 1,
   "metadata": {},
   "outputs": [],
   "source": [
    "from keras.layers import Dense, LSTM, GRU, Dropout, Flatten, Embedding,  BatchNormalization\n",
    "from keras.layers.convolutional import Conv1D, MaxPooling1D\n",
    "import tensorflow as tf\n",
    "import numpy as np\n",
    "import pandas as pd\n",
    "from matplotlib import pyplot as plt\n",
    "import keras\n",
    "from keras.models import Model,Sequential\n",
    "from keras.utils import to_categorical\n",
    "from keras import regularizers\n",
    "from keras.optimizers import SGD\n",
    "from clr_callback import *\n",
    "%matplotlib inline\n",
    "import time\n",
    "import pickle\n",
    "import os\n",
    "import math\n",
    "import torch.nn as nn\n",
    "from torch.nn.modules.utils import _triple\n",
    "from keras.utils import to_categorical\n",
    "import tensorflow as tf\n",
    "from keras.callbacks import EarlyStopping\n",
    "from tensorflow import keras\n",
    "from sklearn.model_selection import train_test_split\n",
    "from sklearn.metrics import confusion_matrix, classification_report\n",
    "\n"
   ]
  },
  {
   "cell_type": "code",
   "execution_count": 2,
   "metadata": {},
   "outputs": [],
   "source": [
    "physical_devices = tf.config.list_physical_devices('GPU') \n",
    "tf.config.experimental.set_memory_growth(physical_devices[0], True)"
   ]
  },
  {
   "cell_type": "code",
   "execution_count": 3,
   "metadata": {},
   "outputs": [],
   "source": [
    "SPLIT_METHOD_child = \"CHILD\"\n",
    "SPLIT_METHOD_session = \"SESSION\"\n",
    "SPLIT_METHOD_random = \"RANDOM\"\n",
    "\n",
    "# WITH FACE, BODY, HANDS (411) =>\n",
    "FEAT_NUM_all = 201\n",
    "\n",
    "# WITH BODY AND HANDS (201) =>\n",
    "FEAT_NUM_body = (25 + 21 + 21) * 3\n",
    "\n",
    "# WITH FACE ONLY (210) =>\n",
    "FEAT_NUM_face = 70 * 3\n",
    "\n",
    "SEQ_LENGTH = 1\n",
    "\n",
    "NB_CLASS = 6\n",
    "CSV_FILE = \"ASD_36_res1.csv\"\n",
    "VARS_DIR = \"var\"\n"
   ]
  },
  {
   "cell_type": "code",
   "execution_count": 4,
   "metadata": {},
   "outputs": [],
   "source": [
    "import pandas\n",
    "data = pandas.read_csv('ASD_36_res1.csv')"
   ]
  },
  {
   "cell_type": "code",
   "execution_count": 5,
   "metadata": {},
   "outputs": [],
   "source": [
    "X = data.iloc[:, 3:78]\n",
    "y = data['engagement']\n",
    "X_train, X_test, y_train, y_test = train_test_split(X, y, test_size=0.14, random_state=1)"
   ]
  },
  {
   "cell_type": "code",
   "execution_count": 6,
   "metadata": {},
   "outputs": [
    {
     "data": {
      "text/plain": [
       "(253124, 75)"
      ]
     },
     "execution_count": 6,
     "metadata": {},
     "output_type": "execute_result"
    }
   ],
   "source": [
    "X_train.shape\n"
   ]
  },
  {
   "cell_type": "code",
   "execution_count": 7,
   "metadata": {},
   "outputs": [],
   "source": [
    "X_train, X_val, y_train, y_val = train_test_split(X_train, y_train, test_size=0.1, random_state=1)"
   ]
  },
  {
   "cell_type": "code",
   "execution_count": 8,
   "metadata": {},
   "outputs": [
    {
     "name": "stdout",
     "output_type": "stream",
     "text": [
      "(227811, 75)\n",
      "(25313, 75)\n",
      "(41207, 75)\n"
     ]
    }
   ],
   "source": [
    "print(X_train.shape)\n",
    "print(X_val.shape)\n",
    "print(X_test.shape)"
   ]
  },
  {
   "cell_type": "code",
   "execution_count": 9,
   "metadata": {},
   "outputs": [],
   "source": [
    "X_train = X_train.to_numpy()\n",
    "X_test =X_test.to_numpy()\n",
    "X_val = X_val.to_numpy()\n",
    "y_train = y_train.to_numpy()\n",
    "y_test = y_test.to_numpy()\n",
    "y_val = y_val.to_numpy()"
   ]
  },
  {
   "cell_type": "code",
   "execution_count": 10,
   "metadata": {},
   "outputs": [
    {
     "data": {
      "text/plain": [
       "numpy.ndarray"
      ]
     },
     "execution_count": 10,
     "metadata": {},
     "output_type": "execute_result"
    }
   ],
   "source": [
    "type(X_train)"
   ]
  },
  {
   "cell_type": "code",
   "execution_count": 11,
   "metadata": {},
   "outputs": [],
   "source": [
    "\n",
    "early_stop = EarlyStopping(monitor='loss', patience=2)\n"
   ]
  },
  {
   "cell_type": "code",
   "execution_count": 12,
   "metadata": {},
   "outputs": [],
   "source": [
    "xx = tf.convert_to_tensor(X_train.reshape(227811,75 , 1))\n",
    "xv = tf.convert_to_tensor(X_val.reshape(25313, 75, 1))\n",
    "xt = tf.convert_to_tensor(X_test.reshape(41207, 75, 1))\n",
    "yy = tf.convert_to_tensor(y_train.reshape(227811, 1))\n",
    "yv = tf.convert_to_tensor(y_val.reshape(25313, 1))\n",
    "yt = tf.convert_to_tensor(y_test.reshape(41207, 1))"
   ]
  },
  {
   "cell_type": "code",
   "execution_count": 13,
   "metadata": {},
   "outputs": [],
   "source": [
    "yy= to_categorical(yy)\n",
    "yv =  to_categorical(yv)\n",
    "yt = to_categorical(yt)"
   ]
  },
  {
   "cell_type": "code",
   "execution_count": 14,
   "metadata": {},
   "outputs": [
    {
     "name": "stdout",
     "output_type": "stream",
     "text": [
      "WARNING:tensorflow:Layer lstm will not use cuDNN kernel since it doesn't meet the cuDNN kernel criteria. It will use generic GPU kernel as fallback when running on GPU\n",
      "Model: \"sequential\"\n",
      "_________________________________________________________________\n",
      "Layer (type)                 Output Shape              Param #   \n",
      "=================================================================\n",
      "conv1d (Conv1D)              (None, 73, 64)            256       \n",
      "_________________________________________________________________\n",
      "conv1d_1 (Conv1D)            (None, 71, 64)            12352     \n",
      "_________________________________________________________________\n",
      "conv1d_2 (Conv1D)            (None, 69, 32)            6176      \n",
      "_________________________________________________________________\n",
      "conv1d_3 (Conv1D)            (None, 67, 32)            3104      \n",
      "_________________________________________________________________\n",
      "conv1d_4 (Conv1D)            (None, 65, 32)            3104      \n",
      "_________________________________________________________________\n",
      "dropout (Dropout)            (None, 65, 32)            0         \n",
      "_________________________________________________________________\n",
      "max_pooling1d (MaxPooling1D) (None, 16, 32)            0         \n",
      "_________________________________________________________________\n",
      "lstm (LSTM)                  (None, 32)                8320      \n",
      "_________________________________________________________________\n",
      "flatten (Flatten)            (None, 32)                0         \n",
      "_________________________________________________________________\n",
      "dense (Dense)                (None, 128)               4224      \n",
      "_________________________________________________________________\n",
      "dense_1 (Dense)              (None, 256)               33024     \n",
      "_________________________________________________________________\n",
      "dense_2 (Dense)              (None, 128)               32896     \n",
      "_________________________________________________________________\n",
      "dense_3 (Dense)              (None, 64)                8256      \n",
      "_________________________________________________________________\n",
      "dense_4 (Dense)              (None, 6)                 390       \n",
      "=================================================================\n",
      "Total params: 112,102\n",
      "Trainable params: 112,102\n",
      "Non-trainable params: 0\n",
      "_________________________________________________________________\n"
     ]
    }
   ],
   "source": [
    "model = keras.Sequential()\n",
    "\n",
    "model.add(Conv1D(filters=64, kernel_size=3, activation='relu', input_shape=(75,1)))\n",
    "\n",
    "model.add(Conv1D(filters=64, kernel_size=3, activation='relu'))\n",
    "\n",
    "model.add(Conv1D(filters=32, kernel_size=3, activation='relu'))\n",
    "\n",
    "model.add(Conv1D(filters=32, kernel_size=3, activation='relu'))\n",
    "\n",
    "model.add(Conv1D(filters=32, kernel_size=3, activation='relu'))\n",
    "\n",
    "model.add(Dropout(0.2))\n",
    "\n",
    "model.add(MaxPooling1D(pool_size=4))\n",
    "\n",
    "model.add(LSTM(32, activation = tf.keras.layers.LeakyReLU(alpha=0.1), dropout=0.2, recurrent_dropout = 0.2))\n",
    "\n",
    "model.add(Flatten())\n",
    "\n",
    "model.add(keras.layers.Dense(128, activation='relu'))\n",
    "\n",
    "model.add(keras.layers.Dense(256, activation='relu'))\n",
    "\n",
    "model.add(keras.layers.Dense(128, activation='relu'))\n",
    "\n",
    "model.add(keras.layers.Dense(64, activation='relu'))\n",
    "\n",
    "model.add(keras.layers.Dense(6, activation='softmax'))\n",
    "\n",
    "\n",
    "model.compile(optimizer='adam', loss='categorical_crossentropy', metrics=['accuracy'])\n",
    "model.summary()"
   ]
  },
  {
   "cell_type": "code",
   "execution_count": 15,
   "metadata": {},
   "outputs": [
    {
     "name": "stdout",
     "output_type": "stream",
     "text": [
      "Epoch 1/25\n",
      "7120/7120 [==============================] - 513s 72ms/step - loss: 1.4774 - accuracy: 0.4403 - val_loss: 1.4352 - val_accuracy: 0.4481\n",
      "Epoch 2/25\n",
      "7120/7120 [==============================] - 518s 73ms/step - loss: 1.4145 - accuracy: 0.4542 - val_loss: 1.3897 - val_accuracy: 0.4553\n",
      "Epoch 3/25\n",
      "7120/7120 [==============================] - 518s 73ms/step - loss: 1.3891 - accuracy: 0.4605 - val_loss: 1.3762 - val_accuracy: 0.4643\n",
      "Epoch 4/25\n",
      "7120/7120 [==============================] - 406s 57ms/step - loss: 1.3673 - accuracy: 0.4678 - val_loss: 1.3591 - val_accuracy: 0.4692\n",
      "Epoch 5/25\n",
      "7120/7120 [==============================] - 377s 53ms/step - loss: 1.3504 - accuracy: 0.4740 - val_loss: 1.3438 - val_accuracy: 0.4753\n",
      "Epoch 6/25\n",
      "7120/7120 [==============================] - 379s 53ms/step - loss: 1.3341 - accuracy: 0.4800 - val_loss: 1.3181 - val_accuracy: 0.4812\n",
      "Epoch 7/25\n",
      "7120/7120 [==============================] - 376s 53ms/step - loss: 1.3214 - accuracy: 0.4850 - val_loss: 1.3191 - val_accuracy: 0.4848\n",
      "Epoch 8/25\n",
      "7120/7120 [==============================] - 370s 52ms/step - loss: 1.3098 - accuracy: 0.4895 - val_loss: 1.3050 - val_accuracy: 0.4894\n",
      "Epoch 9/25\n",
      "7120/7120 [==============================] - 371s 52ms/step - loss: 1.2965 - accuracy: 0.4936 - val_loss: 1.2846 - val_accuracy: 0.4960\n",
      "Epoch 10/25\n",
      "7120/7120 [==============================] - 7729s 1s/step - loss: 1.2860 - accuracy: 0.4982 - val_loss: 1.2935 - val_accuracy: 0.4962\n",
      "Epoch 11/25\n",
      "7120/7120 [==============================] - 356s 50ms/step - loss: 1.2763 - accuracy: 0.5025 - val_loss: 1.2666 - val_accuracy: 0.5080\n",
      "Epoch 12/25\n",
      "7120/7120 [==============================] - 354s 50ms/step - loss: 1.2685 - accuracy: 0.5058 - val_loss: 1.2535 - val_accuracy: 0.5087\n",
      "Epoch 13/25\n",
      "7120/7120 [==============================] - 358s 50ms/step - loss: 1.2613 - accuracy: 0.5076 - val_loss: 1.2598 - val_accuracy: 0.5094\n",
      "Epoch 14/25\n",
      "7120/7120 [==============================] - 355s 50ms/step - loss: 1.2539 - accuracy: 0.5113 - val_loss: 1.2427 - val_accuracy: 0.5152\n",
      "Epoch 15/25\n",
      "7120/7120 [==============================] - 529s 74ms/step - loss: 1.2487 - accuracy: 0.5121 - val_loss: 1.2520 - val_accuracy: 0.5108\n",
      "Epoch 16/25\n",
      "7120/7120 [==============================] - 357s 50ms/step - loss: 1.2412 - accuracy: 0.5149 - val_loss: 1.2346 - val_accuracy: 0.5189\n",
      "Epoch 17/25\n",
      "7120/7120 [==============================] - 354s 50ms/step - loss: 1.2358 - accuracy: 0.5188 - val_loss: 1.2281 - val_accuracy: 0.5209\n",
      "Epoch 18/25\n",
      "7120/7120 [==============================] - 355s 50ms/step - loss: 1.2312 - accuracy: 0.5197 - val_loss: 1.2356 - val_accuracy: 0.5167\n",
      "Epoch 19/25\n",
      "7120/7120 [==============================] - 353s 50ms/step - loss: 1.2270 - accuracy: 0.5216 - val_loss: 1.2467 - val_accuracy: 0.5109\n",
      "Epoch 20/25\n",
      "7120/7120 [==============================] - 353s 50ms/step - loss: 1.2221 - accuracy: 0.5238 - val_loss: 1.2217 - val_accuracy: 0.5233\n",
      "Epoch 21/25\n",
      "7120/7120 [==============================] - 2419s 340ms/step - loss: 1.2173 - accuracy: 0.5252 - val_loss: 1.2073 - val_accuracy: 0.5288\n",
      "Epoch 22/25\n",
      "7120/7120 [==============================] - 356s 50ms/step - loss: 1.2145 - accuracy: 0.5269 - val_loss: 1.2124 - val_accuracy: 0.5260\n",
      "Epoch 23/25\n",
      "7120/7120 [==============================] - 353s 50ms/step - loss: 1.2104 - accuracy: 0.5280 - val_loss: 1.2198 - val_accuracy: 0.5298\n",
      "Epoch 24/25\n",
      "7120/7120 [==============================] - 355s 50ms/step - loss: 1.2084 - accuracy: 0.5288 - val_loss: 1.1975 - val_accuracy: 0.5317\n",
      "Epoch 25/25\n",
      "7120/7120 [==============================] - 354s 50ms/step - loss: 1.2047 - accuracy: 0.5298 - val_loss: 1.2052 - val_accuracy: 0.5315\n"
     ]
    }
   ],
   "source": [
    "hist = model.fit(x = xx , y = yy, epochs=25, validation_data =(xv, yv), batch_size= 32)\n"
   ]
  },
  {
   "cell_type": "code",
   "execution_count": 17,
   "metadata": {},
   "outputs": [
    {
     "name": "stdout",
     "output_type": "stream",
     "text": [
      "1288/1288 [==============================] - 7s 5ms/step - loss: 1.1902 - accuracy: 0.5391\n"
     ]
    }
   ],
   "source": [
    "h = model.evaluate(xt,yt)"
   ]
  },
  {
   "cell_type": "code",
   "execution_count": null,
   "metadata": {},
   "outputs": [],
   "source": []
  },
  {
   "cell_type": "code",
   "execution_count": null,
   "metadata": {},
   "outputs": [],
   "source": []
  }
 ],
 "metadata": {
  "kernelspec": {
   "display_name": "Python 3",
   "language": "python",
   "name": "python3"
  },
  "language_info": {
   "codemirror_mode": {
    "name": "ipython",
    "version": 3
   },
   "file_extension": ".py",
   "mimetype": "text/x-python",
   "name": "python",
   "nbconvert_exporter": "python",
   "pygments_lexer": "ipython3",
   "version": "3.8.3"
  }
 },
 "nbformat": 4,
 "nbformat_minor": 4
}
