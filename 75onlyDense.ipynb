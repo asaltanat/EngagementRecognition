{
 "cells": [
  {
   "cell_type": "markdown",
   "metadata": {},
   "source": [
    "## LSTM model Engagement Recognition (5 classes) + 25 body keypoints"
   ]
  },
  {
   "cell_type": "code",
   "execution_count": 3,
   "metadata": {},
   "outputs": [],
   "source": [
    "from keras.layers import Dense, LSTM, GRU, Dropout, Flatten, Embedding,  BatchNormalization\n",
    "from keras.layers.convolutional import Conv1D, MaxPooling1D\n",
    "import tensorflow as tf\n",
    "import numpy as np\n",
    "import pandas as pd\n",
    "from matplotlib import pyplot as plt\n",
    "import keras\n",
    "from keras.models import Model,Sequential\n",
    "from keras.utils import to_categorical\n",
    "from keras import regularizers\n",
    "from keras.optimizers import SGD\n",
    "from clr_callback import *\n",
    "%matplotlib inline\n",
    "import time\n",
    "import pickle\n",
    "import os\n",
    "import math\n",
    "import torch.nn as nn\n",
    "from torch.nn.modules.utils import _triple\n",
    "from keras.utils import to_categorical\n",
    "import tensorflow as tf\n",
    "from keras.callbacks import EarlyStopping\n",
    "from tensorflow import keras\n",
    "from sklearn.model_selection import train_test_split\n",
    "from sklearn.metrics import confusion_matrix, classification_report\n",
    "\n"
   ]
  },
  {
   "cell_type": "code",
   "execution_count": 4,
   "metadata": {},
   "outputs": [],
   "source": [
    "physical_devices = tf.config.list_physical_devices('GPU') \n",
    "tf.config.experimental.set_memory_growth(physical_devices[0], True)"
   ]
  },
  {
   "cell_type": "code",
   "execution_count": 5,
   "metadata": {},
   "outputs": [],
   "source": [
    "SPLIT_METHOD_child = \"CHILD\"\n",
    "SPLIT_METHOD_session = \"SESSION\"\n",
    "SPLIT_METHOD_random = \"RANDOM\"\n",
    "\n",
    "# WITH FACE, BODY, HANDS (411) =>\n",
    "FEAT_NUM_all = 201\n",
    "\n",
    "# WITH BODY AND HANDS (201) =>\n",
    "FEAT_NUM_body = (25 + 21 + 21) * 3\n",
    "\n",
    "# WITH FACE ONLY (210) =>\n",
    "FEAT_NUM_face = 70 * 3\n",
    "\n",
    "SEQ_LENGTH = 1\n",
    "\n",
    "NB_CLASS = 6\n",
    "CSV_FILE = \"ASD_36_res1.csv\"\n",
    "VARS_DIR = \"var\"\n"
   ]
  },
  {
   "cell_type": "code",
   "execution_count": 6,
   "metadata": {},
   "outputs": [],
   "source": [
    "import pandas\n",
    "data = pandas.read_csv('ASD_36_res1.csv')"
   ]
  },
  {
   "cell_type": "code",
   "execution_count": 7,
   "metadata": {},
   "outputs": [],
   "source": [
    "X = data.iloc[:, 3:78]\n",
    "y = data['engagement']\n",
    "X_train, X_test, y_train, y_test = train_test_split(X, y, test_size=0.14, random_state=1)"
   ]
  },
  {
   "cell_type": "code",
   "execution_count": 8,
   "metadata": {},
   "outputs": [
    {
     "data": {
      "text/plain": [
       "(253124, 75)"
      ]
     },
     "execution_count": 8,
     "metadata": {},
     "output_type": "execute_result"
    }
   ],
   "source": [
    "X_train.shape\n"
   ]
  },
  {
   "cell_type": "code",
   "execution_count": 9,
   "metadata": {},
   "outputs": [],
   "source": [
    "X_train, X_val, y_train, y_val = train_test_split(X_train, y_train, test_size=0.1, random_state=1)"
   ]
  },
  {
   "cell_type": "code",
   "execution_count": 10,
   "metadata": {},
   "outputs": [
    {
     "name": "stdout",
     "output_type": "stream",
     "text": [
      "(227811, 75)\n",
      "(25313, 75)\n",
      "(41207, 75)\n"
     ]
    }
   ],
   "source": [
    "print(X_train.shape)\n",
    "print(X_val.shape)\n",
    "print(X_test.shape)"
   ]
  },
  {
   "cell_type": "code",
   "execution_count": 11,
   "metadata": {},
   "outputs": [],
   "source": [
    "X_train = X_train.to_numpy()\n",
    "X_test =X_test.to_numpy()\n",
    "X_val = X_val.to_numpy()\n",
    "y_train = y_train.to_numpy()\n",
    "y_test = y_test.to_numpy()\n",
    "y_val = y_val.to_numpy()"
   ]
  },
  {
   "cell_type": "code",
   "execution_count": 12,
   "metadata": {},
   "outputs": [
    {
     "data": {
      "text/plain": [
       "numpy.ndarray"
      ]
     },
     "execution_count": 12,
     "metadata": {},
     "output_type": "execute_result"
    }
   ],
   "source": [
    "type(X_train)"
   ]
  },
  {
   "cell_type": "code",
   "execution_count": 13,
   "metadata": {},
   "outputs": [],
   "source": [
    "\n",
    "early_stop = EarlyStopping(monitor='loss', patience=2)\n"
   ]
  },
  {
   "cell_type": "code",
   "execution_count": 14,
   "metadata": {},
   "outputs": [],
   "source": [
    "xx = tf.convert_to_tensor(X_train.reshape(227811,1 , 75))\n",
    "xv = tf.convert_to_tensor(X_val.reshape(25313, 1, 75))\n",
    "xt = tf.convert_to_tensor(X_test.reshape(41207,1, 75))\n",
    "yy = tf.convert_to_tensor(y_train.reshape(227811, 1))\n",
    "yv = tf.convert_to_tensor(y_val.reshape(25313, 1))\n",
    "yt = tf.convert_to_tensor(y_test.reshape(41207, 1))"
   ]
  },
  {
   "cell_type": "code",
   "execution_count": 20,
   "metadata": {},
   "outputs": [],
   "source": [
    "yy= to_categorical(y_train)\n",
    "yv =  to_categorical(y_val)\n",
    "yt = to_categorical(y_train)"
   ]
  },
  {
   "cell_type": "code",
   "execution_count": 34,
   "metadata": {},
   "outputs": [
    {
     "name": "stdout",
     "output_type": "stream",
     "text": [
      "Model: \"sequential_3\"\n",
      "_________________________________________________________________\n",
      "Layer (type)                 Output Shape              Param #   \n",
      "=================================================================\n",
      "dense_21 (Dense)             (None, 128)               9728      \n",
      "_________________________________________________________________\n",
      "dense_22 (Dense)             (None, 256)               33024     \n",
      "_________________________________________________________________\n",
      "dense_23 (Dense)             (None, 512)               131584    \n",
      "_________________________________________________________________\n",
      "dense_24 (Dense)             (None, 128)               65664     \n",
      "_________________________________________________________________\n",
      "dense_25 (Dense)             (None, 64)                8256      \n",
      "_________________________________________________________________\n",
      "dense_26 (Dense)             (None, 128)               8320      \n",
      "_________________________________________________________________\n",
      "dense_27 (Dense)             (None, 256)               33024     \n",
      "_________________________________________________________________\n",
      "dense_28 (Dense)             (None, 128)               32896     \n",
      "_________________________________________________________________\n",
      "dense_29 (Dense)             (None, 64)                8256      \n",
      "_________________________________________________________________\n",
      "dense_30 (Dense)             (None, 6)                 390       \n",
      "=================================================================\n",
      "Total params: 331,142\n",
      "Trainable params: 331,142\n",
      "Non-trainable params: 0\n",
      "_________________________________________________________________\n"
     ]
    }
   ],
   "source": [
    "model = keras.Sequential()\n",
    "model.add(keras.layers.Dense(128, activation='relu', input_shape=(75,)))\n",
    "\n",
    "model.add(keras.layers.Dense(256, activation='relu'))\n",
    "\n",
    "model.add(keras.layers.Dense(512, activation='relu'))\n",
    "\n",
    "model.add(keras.layers.Dense(128, activation='relu'))\n",
    "\n",
    "model.add(keras.layers.Dense(64, activation='relu'))\n",
    "\n",
    "model.add(keras.layers.Dense(128, activation='relu'))\n",
    "\n",
    "model.add(keras.layers.Dense(256, activation='relu'))\n",
    "\n",
    "model.add(keras.layers.Dense(128, activation='relu'))\n",
    "\n",
    "model.add(keras.layers.Dense(64, activation='relu'))\n",
    "\n",
    "model.add(keras.layers.Dense(6, activation='softmax'))\n",
    "\n",
    "model.summary()"
   ]
  },
  {
   "cell_type": "code",
   "execution_count": 35,
   "metadata": {},
   "outputs": [],
   "source": [
    "from keras.optimizers import SGD\n",
    "opt = \"adam\"#SGD(lr=0.001)\n",
    "model.compile(optimizer=opt, loss='categorical_crossentropy', metrics=['accuracy'])\n"
   ]
  },
  {
   "cell_type": "code",
   "execution_count": 36,
   "metadata": {},
   "outputs": [
    {
     "name": "stdout",
     "output_type": "stream",
     "text": [
      "Epoch 1/20\n",
      "3560/3560 [==============================] - 7s 2ms/step - loss: 1.4215 - accuracy: 0.4614 - val_loss: 1.3749 - val_accuracy: 0.4673\n",
      "Epoch 2/20\n",
      "3560/3560 [==============================] - 7s 2ms/step - loss: 1.3379 - accuracy: 0.4832 - val_loss: 1.3299 - val_accuracy: 0.4860\n",
      "Epoch 3/20\n",
      "3560/3560 [==============================] - 7s 2ms/step - loss: 1.2994 - accuracy: 0.4956 - val_loss: 1.3192 - val_accuracy: 0.4885\n",
      "Epoch 4/20\n",
      "3560/3560 [==============================] - 7s 2ms/step - loss: 1.2690 - accuracy: 0.5091 - val_loss: 1.2889 - val_accuracy: 0.5048\n",
      "Epoch 5/20\n",
      "3560/3560 [==============================] - 7s 2ms/step - loss: 1.2457 - accuracy: 0.5198 - val_loss: 1.2583 - val_accuracy: 0.5163\n",
      "Epoch 6/20\n",
      "3560/3560 [==============================] - 7s 2ms/step - loss: 1.2261 - accuracy: 0.5277 - val_loss: 1.2340 - val_accuracy: 0.5246\n",
      "Epoch 7/20\n",
      "3560/3560 [==============================] - 7s 2ms/step - loss: 1.2061 - accuracy: 0.5366 - val_loss: 1.2210 - val_accuracy: 0.5264\n",
      "Epoch 8/20\n",
      "3560/3560 [==============================] - 7s 2ms/step - loss: 1.1879 - accuracy: 0.5441 - val_loss: 1.2206 - val_accuracy: 0.5264\n",
      "Epoch 9/20\n",
      "3560/3560 [==============================] - 7s 2ms/step - loss: 1.1711 - accuracy: 0.5510 - val_loss: 1.2017 - val_accuracy: 0.5439\n",
      "Epoch 10/20\n",
      "3560/3560 [==============================] - 7s 2ms/step - loss: 1.1574 - accuracy: 0.5582 - val_loss: 1.1828 - val_accuracy: 0.5419\n",
      "Epoch 11/20\n",
      "3560/3560 [==============================] - 7s 2ms/step - loss: 1.1425 - accuracy: 0.5636 - val_loss: 1.1646 - val_accuracy: 0.5557\n",
      "Epoch 12/20\n",
      "3560/3560 [==============================] - 8s 2ms/step - loss: 1.1289 - accuracy: 0.5705 - val_loss: 1.1585 - val_accuracy: 0.5593\n",
      "Epoch 13/20\n",
      "3560/3560 [==============================] - 7s 2ms/step - loss: 1.1145 - accuracy: 0.5764 - val_loss: 1.1665 - val_accuracy: 0.5556\n",
      "Epoch 14/20\n",
      "3560/3560 [==============================] - 7s 2ms/step - loss: 1.1003 - accuracy: 0.5829 - val_loss: 1.1483 - val_accuracy: 0.5595\n",
      "Epoch 15/20\n",
      "3560/3560 [==============================] - 7s 2ms/step - loss: 1.0880 - accuracy: 0.5887 - val_loss: 1.1510 - val_accuracy: 0.5654\n",
      "Epoch 16/20\n",
      "3560/3560 [==============================] - 7s 2ms/step - loss: 1.0736 - accuracy: 0.5938 - val_loss: 1.1402 - val_accuracy: 0.5713\n",
      "Epoch 17/20\n",
      "3560/3560 [==============================] - 7s 2ms/step - loss: 1.0618 - accuracy: 0.5984 - val_loss: 1.1278 - val_accuracy: 0.5780\n",
      "Epoch 18/20\n",
      "3560/3560 [==============================] - 7s 2ms/step - loss: 1.0492 - accuracy: 0.6049 - val_loss: 1.1222 - val_accuracy: 0.5786\n",
      "Epoch 19/20\n",
      "3560/3560 [==============================] - 7s 2ms/step - loss: 1.0427 - accuracy: 0.6076 - val_loss: 1.1266 - val_accuracy: 0.5758\n",
      "Epoch 20/20\n",
      "3560/3560 [==============================] - 7s 2ms/step - loss: 1.0269 - accuracy: 0.6138 - val_loss: 1.1234 - val_accuracy: 0.5763\n"
     ]
    }
   ],
   "source": [
    "hist = model.fit(x = X_train , y = yy, epochs=20, validation_data =(X_val, yv), batch_size= 64)\n"
   ]
  },
  {
   "cell_type": "code",
   "execution_count": 37,
   "metadata": {},
   "outputs": [
    {
     "name": "stdout",
     "output_type": "stream",
     "text": [
      "7120/7120 [==============================] - 8s 1ms/step - loss: 1.0135 - accuracy: 0.6192\n"
     ]
    }
   ],
   "source": [
    "h = model.evaluate(X_train,yt)"
   ]
  },
  {
   "cell_type": "code",
   "execution_count": null,
   "metadata": {},
   "outputs": [],
   "source": []
  }
 ],
 "metadata": {
  "kernelspec": {
   "display_name": "Python 3",
   "language": "python",
   "name": "python3"
  },
  "language_info": {
   "codemirror_mode": {
    "name": "ipython",
    "version": 3
   },
   "file_extension": ".py",
   "mimetype": "text/x-python",
   "name": "python",
   "nbconvert_exporter": "python",
   "pygments_lexer": "ipython3",
   "version": "3.8.3"
  }
 },
 "nbformat": 4,
 "nbformat_minor": 4
}
