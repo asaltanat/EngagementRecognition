{
 "cells": [
  {
   "cell_type": "code",
   "execution_count": 2,
   "metadata": {},
   "outputs": [],
   "source": [
    "from keras.layers import Dense, LSTM, GRU, Dropout, Flatten, Embedding,  BatchNormalization\n",
    "from keras.layers.convolutional import Conv1D, MaxPooling1D\n",
    "import tensorflow as tf\n",
    "import numpy as np\n",
    "import pandas as pd\n",
    "from matplotlib import pyplot as plt\n",
    "import keras\n",
    "from keras.models import Model,Sequential\n",
    "from keras.utils import to_categorical\n",
    "from keras import regularizers\n",
    "from keras.optimizers import SGD\n",
    "from clr_callback import *\n",
    "%matplotlib inline\n",
    "import time\n",
    "import pickle\n",
    "import os\n",
    "import math\n",
    "import torch.nn as nn\n",
    "from torch.nn.modules.utils import _triple\n",
    "from keras.utils import to_categorical\n",
    "import tensorflow as tf\n",
    "from keras.callbacks import EarlyStopping\n",
    "from tensorflow import keras\n",
    "from sklearn.model_selection import train_test_split\n",
    "from sklearn.metrics import confusion_matrix, classification_report\n",
    "\n"
   ]
  },
  {
   "cell_type": "code",
   "execution_count": 3,
   "metadata": {},
   "outputs": [],
   "source": [
    "physical_devices = tf.config.list_physical_devices('GPU') \n",
    "tf.config.experimental.set_memory_growth(physical_devices[0], True)"
   ]
  },
  {
   "cell_type": "code",
   "execution_count": 4,
   "metadata": {},
   "outputs": [],
   "source": [
    "SPLIT_METHOD_child = \"CHILD\"\n",
    "SPLIT_METHOD_session = \"SESSION\"\n",
    "SPLIT_METHOD_random = \"RANDOM\"\n",
    "\n",
    "# WITH FACE, BODY, HANDS (411) =>\n",
    "FEAT_NUM_all = 201\n",
    "\n",
    "# WITH BODY AND HANDS (201) =>\n",
    "FEAT_NUM_body = (25 + 21 + 21) * 3\n",
    "\n",
    "# WITH FACE ONLY (210) =>\n",
    "FEAT_NUM_face = 70 * 3\n",
    "\n",
    "SEQ_LENGTH = 1\n",
    "\n",
    "NB_CLASS = 6\n",
    "CSV_FILE = \"ASD_36_res1.csv\"\n",
    "VARS_DIR = \"var\"\n"
   ]
  },
  {
   "cell_type": "code",
   "execution_count": 5,
   "metadata": {},
   "outputs": [],
   "source": [
    "import pandas\n",
    "data = pandas.read_csv('ASD_36_res1.csv')"
   ]
  },
  {
   "cell_type": "code",
   "execution_count": 6,
   "metadata": {},
   "outputs": [],
   "source": [
    "X = data.iloc[:, 3:78]\n",
    "y = data['engagement']\n",
    "X_train, X_test, y_train, y_test = train_test_split(X, y, test_size=0.14, random_state=1)"
   ]
  },
  {
   "cell_type": "code",
   "execution_count": 7,
   "metadata": {},
   "outputs": [
    {
     "data": {
      "text/plain": [
       "(253124, 75)"
      ]
     },
     "execution_count": 7,
     "metadata": {},
     "output_type": "execute_result"
    }
   ],
   "source": [
    "X_train.shape\n"
   ]
  },
  {
   "cell_type": "code",
   "execution_count": 8,
   "metadata": {},
   "outputs": [],
   "source": [
    "X_train, X_val, y_train, y_val = train_test_split(X_train, y_train, test_size=0.1, random_state=1)"
   ]
  },
  {
   "cell_type": "code",
   "execution_count": 9,
   "metadata": {},
   "outputs": [
    {
     "name": "stdout",
     "output_type": "stream",
     "text": [
      "(227811, 75)\n",
      "(25313, 75)\n",
      "(41207, 75)\n"
     ]
    }
   ],
   "source": [
    "print(X_train.shape)\n",
    "print(X_val.shape)\n",
    "print(X_test.shape)"
   ]
  },
  {
   "cell_type": "code",
   "execution_count": 10,
   "metadata": {},
   "outputs": [],
   "source": [
    "X_train = X_train.to_numpy()\n",
    "X_test =X_test.to_numpy()\n",
    "X_val = X_val.to_numpy()\n",
    "y_train = y_train.to_numpy()\n",
    "y_test = y_test.to_numpy()\n",
    "y_val = y_val.to_numpy()"
   ]
  },
  {
   "cell_type": "code",
   "execution_count": 11,
   "metadata": {},
   "outputs": [
    {
     "data": {
      "text/plain": [
       "numpy.ndarray"
      ]
     },
     "execution_count": 11,
     "metadata": {},
     "output_type": "execute_result"
    }
   ],
   "source": [
    "type(X_train)"
   ]
  },
  {
   "cell_type": "code",
   "execution_count": 12,
   "metadata": {},
   "outputs": [],
   "source": [
    "\n",
    "early_stop = EarlyStopping(monitor='loss', patience=2)\n"
   ]
  },
  {
   "cell_type": "code",
   "execution_count": 13,
   "metadata": {},
   "outputs": [],
   "source": [
    "xx = tf.convert_to_tensor(X_train.reshape(227811,75 , 1))\n",
    "xv = tf.convert_to_tensor(X_val.reshape(25313, 75, 1))\n",
    "xt = tf.convert_to_tensor(X_test.reshape(41207, 75, 1))\n",
    "yy = tf.convert_to_tensor(y_train.reshape(227811, 1))\n",
    "yv = tf.convert_to_tensor(y_val.reshape(25313, 1))\n",
    "yt = tf.convert_to_tensor(y_test.reshape(41207, 1))"
   ]
  },
  {
   "cell_type": "code",
   "execution_count": 14,
   "metadata": {},
   "outputs": [],
   "source": [
    "yy= to_categorical(yy)\n",
    "yv =  to_categorical(yv)\n",
    "yt = to_categorical(yt)"
   ]
  },
  {
   "cell_type": "code",
   "execution_count": 63,
   "metadata": {},
   "outputs": [
    {
     "name": "stdout",
     "output_type": "stream",
     "text": [
      "Model: \"sequential_17\"\n",
      "_________________________________________________________________\n",
      "Layer (type)                 Output Shape              Param #   \n",
      "=================================================================\n",
      "conv1d_81 (Conv1D)           (None, 73, 64)            256       \n",
      "_________________________________________________________________\n",
      "conv1d_82 (Conv1D)           (None, 71, 64)            12352     \n",
      "_________________________________________________________________\n",
      "conv1d_83 (Conv1D)           (None, 69, 32)            6176      \n",
      "_________________________________________________________________\n",
      "conv1d_84 (Conv1D)           (None, 67, 32)            3104      \n",
      "_________________________________________________________________\n",
      "dropout_20 (Dropout)         (None, 67, 32)            0         \n",
      "_________________________________________________________________\n",
      "max_pooling1d_19 (MaxPooling (None, 33, 32)            0         \n",
      "_________________________________________________________________\n",
      "flatten_18 (Flatten)         (None, 1056)              0         \n",
      "_________________________________________________________________\n",
      "dense_78 (Dense)             (None, 256)               270592    \n",
      "_________________________________________________________________\n",
      "dense_79 (Dense)             (None, 128)               32896     \n",
      "_________________________________________________________________\n",
      "dense_80 (Dense)             (None, 256)               33024     \n",
      "_________________________________________________________________\n",
      "dense_81 (Dense)             (None, 64)                16448     \n",
      "_________________________________________________________________\n",
      "dense_82 (Dense)             (None, 6)                 390       \n",
      "=================================================================\n",
      "Total params: 375,238\n",
      "Trainable params: 375,238\n",
      "Non-trainable params: 0\n",
      "_________________________________________________________________\n"
     ]
    }
   ],
   "source": [
    "model = keras.Sequential()\n",
    "\n",
    "model.add(Conv1D(filters=64, kernel_size=3, activation='relu', input_shape=(75,1)))\n",
    "\n",
    "model.add(Conv1D(filters=64, kernel_size=3, activation='relu'))\n",
    "\n",
    "model.add(Conv1D(filters=32, kernel_size=3, activation='relu'))\n",
    "\n",
    "model.add(Conv1D(filters=32, kernel_size=3, activation='relu'))\n",
    "\n",
    "model.add(Dropout(0.2))\n",
    "\n",
    "model.add(MaxPooling1D(pool_size=2))\n",
    "\n",
    "model.add(Flatten())\n",
    "\n",
    "model.add(keras.layers.Dense(256, activation='relu'))\n",
    "\n",
    "model.add(keras.layers.Dense(128, activation='relu'))\n",
    "\n",
    "model.add(keras.layers.Dense(256, activation='relu'))\n",
    "\n",
    "model.add(keras.layers.Dense(64, activation='relu'))\n",
    "\n",
    "model.add(keras.layers.Dense(6, activation='softmax'))\n",
    "\n",
    "\n",
    "model.compile(optimizer='adam', loss='categorical_crossentropy', metrics=['accuracy'])\n",
    "model.summary()"
   ]
  },
  {
   "cell_type": "code",
   "execution_count": 64,
   "metadata": {},
   "outputs": [
    {
     "name": "stdout",
     "output_type": "stream",
     "text": [
      "Epoch 1/15\n",
      "7120/7120 [==============================] - 25s 4ms/step - loss: 1.3817 - accuracy: 0.4679 - val_loss: 1.3300 - val_accuracy: 0.4836\n",
      "Epoch 2/15\n",
      "7120/7120 [==============================] - 26s 4ms/step - loss: 1.2591 - accuracy: 0.5111 - val_loss: 1.2198 - val_accuracy: 0.5273\n",
      "Epoch 3/15\n",
      "7120/7120 [==============================] - 26s 4ms/step - loss: 1.1871 - accuracy: 0.5411 - val_loss: 1.1573 - val_accuracy: 0.5543\n",
      "Epoch 4/15\n",
      "7120/7120 [==============================] - 25s 4ms/step - loss: 1.1379 - accuracy: 0.5611 - val_loss: 1.1309 - val_accuracy: 0.5668\n",
      "Epoch 5/15\n",
      "7120/7120 [==============================] - 24s 3ms/step - loss: 1.1003 - accuracy: 0.5776 - val_loss: 1.1061 - val_accuracy: 0.5770\n",
      "Epoch 6/15\n",
      "7120/7120 [==============================] - 25s 3ms/step - loss: 1.0696 - accuracy: 0.5905 - val_loss: 1.0790 - val_accuracy: 0.5884\n",
      "Epoch 7/15\n",
      "7120/7120 [==============================] - 24s 3ms/step - loss: 1.0450 - accuracy: 0.6004 - val_loss: 1.0552 - val_accuracy: 0.5983\n",
      "Epoch 8/15\n",
      "7120/7120 [==============================] - 24s 3ms/step - loss: 1.0222 - accuracy: 0.6089 - val_loss: 1.0595 - val_accuracy: 0.5982\n",
      "Epoch 9/15\n",
      "7120/7120 [==============================] - 25s 4ms/step - loss: 1.0019 - accuracy: 0.6189 - val_loss: 1.0536 - val_accuracy: 0.5992\n",
      "Epoch 10/15\n",
      "7120/7120 [==============================] - 26s 4ms/step - loss: 0.9847 - accuracy: 0.6256 - val_loss: 1.0196 - val_accuracy: 0.6149\n",
      "Epoch 11/15\n",
      "7120/7120 [==============================] - 26s 4ms/step - loss: 0.9681 - accuracy: 0.6327 - val_loss: 1.0055 - val_accuracy: 0.6200\n",
      "Epoch 12/15\n",
      "7120/7120 [==============================] - 24s 3ms/step - loss: 0.9543 - accuracy: 0.6378 - val_loss: 1.0138 - val_accuracy: 0.6213\n",
      "Epoch 13/15\n",
      "7120/7120 [==============================] - 24s 3ms/step - loss: 0.9418 - accuracy: 0.6453 - val_loss: 0.9912 - val_accuracy: 0.6267\n",
      "Epoch 14/15\n",
      "7120/7120 [==============================] - 24s 3ms/step - loss: 0.9304 - accuracy: 0.6485 - val_loss: 1.0036 - val_accuracy: 0.6210\n",
      "Epoch 15/15\n",
      "7120/7120 [==============================] - 25s 4ms/step - loss: 0.9171 - accuracy: 0.6539 - val_loss: 0.9957 - val_accuracy: 0.6286\n"
     ]
    }
   ],
   "source": [
    "hist = model.fit(x = xx , y = yy, epochs=15, validation_data =(xv, yv), batch_size= 32)\n"
   ]
  },
  {
   "cell_type": "code",
   "execution_count": 65,
   "metadata": {},
   "outputs": [
    {
     "name": "stdout",
     "output_type": "stream",
     "text": [
      "1288/1288 [==============================] - 2s 2ms/step - loss: 0.9790 - accuracy: 0.6359\n"
     ]
    }
   ],
   "source": [
    "h = model.evaluate(xt,yt)"
   ]
  },
  {
   "cell_type": "code",
   "execution_count": null,
   "metadata": {},
   "outputs": [],
   "source": []
  },
  {
   "cell_type": "code",
   "execution_count": null,
   "metadata": {},
   "outputs": [],
   "source": []
  }
 ],
 "metadata": {
  "kernelspec": {
   "display_name": "Python 3",
   "language": "python",
   "name": "python3"
  },
  "language_info": {
   "codemirror_mode": {
    "name": "ipython",
    "version": 3
   },
   "file_extension": ".py",
   "mimetype": "text/x-python",
   "name": "python",
   "nbconvert_exporter": "python",
   "pygments_lexer": "ipython3",
   "version": "3.8.3"
  }
 },
 "nbformat": 4,
 "nbformat_minor": 4
}
