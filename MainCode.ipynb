{
 "cells": [
  {
   "cell_type": "markdown",
   "metadata": {},
   "source": [
    "## Engagement recognition with Keras"
   ]
  },
  {
   "cell_type": "code",
   "execution_count": 26,
   "metadata": {},
   "outputs": [],
   "source": [
    "from keras.layers import Dense, LSTM, GRU, Dropout, Flatten, Embedding,  BatchNormalization\n",
    "from keras.layers.convolutional import Conv1D, MaxPooling1D\n",
    "import tensorflow as tf\n",
    "import numpy as np\n",
    "import pandas as pd\n",
    "from matplotlib import pyplot as plt\n",
    "import keras\n",
    "from keras.models import Model,Sequential\n",
    "from keras.utils import to_categorical\n",
    "from keras import regularizers\n",
    "from keras.optimizers import SGD\n",
    "from clr_callback import *\n",
    "%matplotlib inline\n",
    "import time\n",
    "import pickle\n",
    "import os\n",
    "import math\n",
    "import torch.nn as nn\n",
    "from torch.nn.modules.utils import _triple\n",
    "from keras.utils import to_categorical\n",
    "import tensorflow as tf\n",
    "from keras.callbacks import EarlyStopping\n",
    "from tensorflow import keras\n",
    "from sklearn.model_selection import train_test_split\n",
    "from sklearn.metrics import confusion_matrix, classification_report\n",
    "\n"
   ]
  },
  {
   "cell_type": "code",
   "execution_count": 27,
   "metadata": {},
   "outputs": [],
   "source": [
    "physical_devices = tf.config.list_physical_devices('GPU') \n",
    "tf.config.experimental.set_memory_growth(physical_devices[0], True)"
   ]
  },
  {
   "cell_type": "code",
   "execution_count": 28,
   "metadata": {},
   "outputs": [],
   "source": [
    "SPLIT_METHOD_child = \"CHILD\"\n",
    "SPLIT_METHOD_session = \"SESSION\"\n",
    "SPLIT_METHOD_random = \"RANDOM\"\n",
    "\n",
    "# WITH FACE, BODY, HANDS (411) =>\n",
    "FEAT_NUM_all = 201\n",
    "\n",
    "# WITH BODY AND HANDS (201) =>\n",
    "FEAT_NUM_body = (25 + 21 + 21) * 3\n",
    "\n",
    "# WITH FACE ONLY (210) =>\n",
    "FEAT_NUM_face = 70 * 3\n",
    "\n",
    "SEQ_LENGTH = 1\n",
    "\n",
    "NB_CLASS = 6\n",
    "CSV_FILE = \"ASD_36_res1.csv\"\n",
    "VARS_DIR = \"var\"\n"
   ]
  },
  {
   "cell_type": "markdown",
   "metadata": {},
   "source": [
    "Load Data"
   ]
  },
  {
   "cell_type": "code",
   "execution_count": 29,
   "metadata": {},
   "outputs": [],
   "source": [
    "import pandas\n",
    "data = pandas.read_csv('ASD_36_res1.csv')"
   ]
  },
  {
   "cell_type": "markdown",
   "metadata": {},
   "source": [
    "Extract data for 25 body keypoints"
   ]
  },
  {
   "cell_type": "code",
   "execution_count": 30,
   "metadata": {},
   "outputs": [],
   "source": [
    "X = data.iloc[:, 3:78]\n",
    "y = data['engagement']\n",
    "X_train, X_test, y_train, y_test = train_test_split(X, y, test_size=0.14, random_state=1)"
   ]
  },
  {
   "cell_type": "code",
   "execution_count": 31,
   "metadata": {},
   "outputs": [
    {
     "data": {
      "text/plain": [
       "(253124, 75)"
      ]
     },
     "execution_count": 31,
     "metadata": {},
     "output_type": "execute_result"
    }
   ],
   "source": [
    "X_train.shape\n"
   ]
  },
  {
   "cell_type": "markdown",
   "metadata": {},
   "source": [
    "Split data to train, test, validation"
   ]
  },
  {
   "cell_type": "code",
   "execution_count": 32,
   "metadata": {},
   "outputs": [],
   "source": [
    "X_train, X_val, y_train, y_val = train_test_split(X_train, y_train, test_size=0.1, random_state=1)"
   ]
  },
  {
   "cell_type": "code",
   "execution_count": 33,
   "metadata": {},
   "outputs": [
    {
     "name": "stdout",
     "output_type": "stream",
     "text": [
      "(227811, 75)\n",
      "(25313, 75)\n",
      "(41207, 75)\n"
     ]
    }
   ],
   "source": [
    "print(X_train.shape)\n",
    "print(X_val.shape)\n",
    "print(X_test.shape)"
   ]
  },
  {
   "cell_type": "code",
   "execution_count": 34,
   "metadata": {},
   "outputs": [],
   "source": [
    "X_train = X_train.to_numpy()\n",
    "X_test =X_test.to_numpy()\n",
    "X_val = X_val.to_numpy()\n",
    "y_train = y_train.to_numpy()\n",
    "y_test = y_test.to_numpy()\n",
    "y_val = y_val.to_numpy()"
   ]
  },
  {
   "cell_type": "code",
   "execution_count": 35,
   "metadata": {},
   "outputs": [
    {
     "data": {
      "text/plain": [
       "numpy.ndarray"
      ]
     },
     "execution_count": 35,
     "metadata": {},
     "output_type": "execute_result"
    }
   ],
   "source": [
    "type(X_train)"
   ]
  },
  {
   "cell_type": "code",
   "execution_count": 36,
   "metadata": {},
   "outputs": [],
   "source": [
    "\n",
    "early_stop = EarlyStopping(monitor='loss', patience=2)\n"
   ]
  },
  {
   "cell_type": "markdown",
   "metadata": {},
   "source": [
    "For conv1d layer input, data should be reshaped into 3 dimentional"
   ]
  },
  {
   "cell_type": "code",
   "execution_count": 46,
   "metadata": {},
   "outputs": [],
   "source": [
    "## This cell is needed if the first layer of the network is LSTM (Uncomment this cell and comment the cell below)\n",
    "#xx = tf.convert_to_tensor(X_train.reshape(227811,1 , 75))\n",
    "#xv = tf.convert_to_tensor(X_val.reshape(25313, 1, 75))\n",
    "#xt = tf.convert_to_tensor(X_test.reshape(41207,1, 75))\n",
    "#yy = tf.convert_to_tensor(y_train.reshape(227811, 1))\n",
    "#yv = tf.convert_to_tensor(y_val.reshape(25313, 1))\n",
    "#yt = tf.convert_to_tensor(y_test.reshape(41207, 1))"
   ]
  },
  {
   "cell_type": "code",
   "execution_count": 37,
   "metadata": {},
   "outputs": [],
   "source": [
    "xx = tf.convert_to_tensor(X_train.reshape(227811,75 , 1))\n",
    "xv = tf.convert_to_tensor(X_val.reshape(25313, 75, 1))\n",
    "xt = tf.convert_to_tensor(X_test.reshape(41207, 75, 1))\n",
    "yy = tf.convert_to_tensor(y_train.reshape(227811, 1))\n",
    "yv = tf.convert_to_tensor(y_val.reshape(25313, 1))\n",
    "yt = tf.convert_to_tensor(y_test.reshape(41207, 1))"
   ]
  },
  {
   "cell_type": "markdown",
   "metadata": {},
   "source": [
    "We have 6 classes and it is better to convert y which is one dimentional with values (0,1,2,3,4,5) to 6 dimentional [0 1 0 0 0 0] -> indicates 1"
   ]
  },
  {
   "cell_type": "code",
   "execution_count": 38,
   "metadata": {},
   "outputs": [],
   "source": [
    "yy= to_categorical(yy)\n",
    "yv =  to_categorical(yv)\n",
    "yt = to_categorical(yt)"
   ]
  },
  {
   "cell_type": "markdown",
   "metadata": {},
   "source": [
    "Keras sequential model"
   ]
  },
  {
   "cell_type": "code",
   "execution_count": 52,
   "metadata": {},
   "outputs": [
    {
     "name": "stdout",
     "output_type": "stream",
     "text": [
      "Model: \"sequential_8\"\n",
      "_________________________________________________________________\n",
      "Layer (type)                 Output Shape              Param #   \n",
      "=================================================================\n",
      "conv1d_35 (Conv1D)           (None, 73, 64)            256       \n",
      "_________________________________________________________________\n",
      "conv1d_36 (Conv1D)           (None, 71, 64)            12352     \n",
      "_________________________________________________________________\n",
      "conv1d_37 (Conv1D)           (None, 69, 32)            6176      \n",
      "_________________________________________________________________\n",
      "conv1d_38 (Conv1D)           (None, 67, 32)            3104      \n",
      "_________________________________________________________________\n",
      "conv1d_39 (Conv1D)           (None, 65, 32)            3104      \n",
      "_________________________________________________________________\n",
      "dropout_7 (Dropout)          (None, 65, 32)            0         \n",
      "_________________________________________________________________\n",
      "max_pooling1d_7 (MaxPooling1 (None, 65, 32)            0         \n",
      "_________________________________________________________________\n",
      "flatten_7 (Flatten)          (None, 2080)              0         \n",
      "_________________________________________________________________\n",
      "dense_35 (Dense)             (None, 128)               266368    \n",
      "_________________________________________________________________\n",
      "dense_36 (Dense)             (None, 256)               33024     \n",
      "_________________________________________________________________\n",
      "dense_37 (Dense)             (None, 128)               32896     \n",
      "_________________________________________________________________\n",
      "dense_38 (Dense)             (None, 64)                8256      \n",
      "_________________________________________________________________\n",
      "dense_39 (Dense)             (None, 6)                 390       \n",
      "=================================================================\n",
      "Total params: 365,926\n",
      "Trainable params: 365,926\n",
      "Non-trainable params: 0\n",
      "_________________________________________________________________\n"
     ]
    }
   ],
   "source": [
    "model = keras.Sequential()\n",
    "\n",
    "model.add(Conv1D(filters=64, kernel_size=3, activation='relu', input_shape=(75,1)))\n",
    "\n",
    "model.add(Conv1D(filters=64, kernel_size=3, activation='relu'))\n",
    "\n",
    "model.add(Conv1D(filters=32, kernel_size=3, activation='relu'))\n",
    "\n",
    "model.add(Conv1D(filters=32, kernel_size=3, activation='relu'))\n",
    "\n",
    "model.add(Conv1D(filters=32, kernel_size=3, activation='relu'))\n",
    "\n",
    "model.add(Dropout(0.2))\n",
    "\n",
    "model.add(MaxPooling1D(pool_size=1))\n",
    "\n",
    "model.add(Flatten())\n",
    "\n",
    "model.add(keras.layers.Dense(128, activation='relu'))\n",
    "\n",
    "model.add(keras.layers.Dense(256, activation='relu'))\n",
    "\n",
    "model.add(keras.layers.Dense(128, activation='relu'))\n",
    "\n",
    "model.add(keras.layers.Dense(64, activation='relu'))\n",
    "\n",
    "model.add(keras.layers.Dense(6, activation='softmax'))\n",
    "\n",
    "\n",
    "model.compile(optimizer='adam', loss='categorical_crossentropy', metrics=['accuracy'])\n",
    "model.summary()"
   ]
  },
  {
   "cell_type": "markdown",
   "metadata": {},
   "source": [
    "NUmber of batch size and epochs (also can be tuned)"
   ]
  },
  {
   "cell_type": "code",
   "execution_count": 53,
   "metadata": {},
   "outputs": [
    {
     "name": "stdout",
     "output_type": "stream",
     "text": [
      "Epoch 1/100\n",
      "890/890 [==============================] - 6s 7ms/step - loss: 1.3806 - accuracy: 0.4712 - val_loss: 1.3025 - val_accuracy: 0.4971\n",
      "Epoch 2/100\n",
      "890/890 [==============================] - 6s 6ms/step - loss: 1.2534 - accuracy: 0.5159 - val_loss: 1.2279 - val_accuracy: 0.5268\n",
      "Epoch 3/100\n",
      "890/890 [==============================] - 6s 6ms/step - loss: 1.1868 - accuracy: 0.5436 - val_loss: 1.1533 - val_accuracy: 0.5542\n",
      "Epoch 4/100\n",
      "890/890 [==============================] - 6s 7ms/step - loss: 1.1371 - accuracy: 0.5630 - val_loss: 1.1362 - val_accuracy: 0.5620\n",
      "Epoch 5/100\n",
      "890/890 [==============================] - 6s 7ms/step - loss: 1.0961 - accuracy: 0.5807 - val_loss: 1.1029 - val_accuracy: 0.5821\n",
      "Epoch 6/100\n",
      "890/890 [==============================] - 6s 7ms/step - loss: 1.0590 - accuracy: 0.5963 - val_loss: 1.0683 - val_accuracy: 0.5944\n",
      "Epoch 7/100\n",
      "890/890 [==============================] - 6s 7ms/step - loss: 1.0297 - accuracy: 0.6081 - val_loss: 1.0438 - val_accuracy: 0.6017\n",
      "Epoch 8/100\n",
      "890/890 [==============================] - 6s 7ms/step - loss: 1.0031 - accuracy: 0.6180 - val_loss: 1.0334 - val_accuracy: 0.6095\n",
      "Epoch 9/100\n",
      "890/890 [==============================] - 6s 7ms/step - loss: 0.9795 - accuracy: 0.6284 - val_loss: 1.0197 - val_accuracy: 0.6153\n",
      "Epoch 10/100\n",
      "890/890 [==============================] - 6s 7ms/step - loss: 0.9606 - accuracy: 0.6353 - val_loss: 1.0071 - val_accuracy: 0.6212\n",
      "Epoch 11/100\n",
      "890/890 [==============================] - 6s 7ms/step - loss: 0.9399 - accuracy: 0.6445 - val_loss: 0.9847 - val_accuracy: 0.6286\n",
      "Epoch 12/100\n",
      "890/890 [==============================] - 6s 7ms/step - loss: 0.9240 - accuracy: 0.6512 - val_loss: 0.9955 - val_accuracy: 0.6276\n",
      "Epoch 13/100\n",
      "890/890 [==============================] - 6s 7ms/step - loss: 0.9113 - accuracy: 0.6566 - val_loss: 0.9748 - val_accuracy: 0.6364\n",
      "Epoch 14/100\n",
      "890/890 [==============================] - 6s 7ms/step - loss: 0.8922 - accuracy: 0.6640 - val_loss: 0.9772 - val_accuracy: 0.6366\n",
      "Epoch 15/100\n",
      "890/890 [==============================] - 6s 7ms/step - loss: 0.8797 - accuracy: 0.6686 - val_loss: 0.9685 - val_accuracy: 0.6379\n",
      "Epoch 16/100\n",
      "890/890 [==============================] - 6s 7ms/step - loss: 0.8689 - accuracy: 0.6728 - val_loss: 0.9707 - val_accuracy: 0.6426\n",
      "Epoch 17/100\n",
      "890/890 [==============================] - 6s 7ms/step - loss: 0.8579 - accuracy: 0.6775 - val_loss: 0.9662 - val_accuracy: 0.6452\n",
      "Epoch 18/100\n",
      "890/890 [==============================] - 6s 7ms/step - loss: 0.8467 - accuracy: 0.6820 - val_loss: 0.9554 - val_accuracy: 0.6483\n",
      "Epoch 19/100\n",
      "890/890 [==============================] - 6s 7ms/step - loss: 0.8381 - accuracy: 0.6859 - val_loss: 0.9592 - val_accuracy: 0.6507\n",
      "Epoch 20/100\n",
      "890/890 [==============================] - 6s 7ms/step - loss: 0.8288 - accuracy: 0.6886 - val_loss: 0.9565 - val_accuracy: 0.6524\n",
      "Epoch 21/100\n",
      "890/890 [==============================] - 6s 7ms/step - loss: 0.8201 - accuracy: 0.6925 - val_loss: 0.9607 - val_accuracy: 0.6536\n",
      "Epoch 22/100\n",
      "890/890 [==============================] - 6s 7ms/step - loss: 0.8107 - accuracy: 0.6965 - val_loss: 0.9516 - val_accuracy: 0.6546\n",
      "Epoch 23/100\n",
      "890/890 [==============================] - 6s 7ms/step - loss: 0.8042 - accuracy: 0.6985 - val_loss: 0.9431 - val_accuracy: 0.6582\n",
      "Epoch 24/100\n",
      "890/890 [==============================] - 6s 7ms/step - loss: 0.7948 - accuracy: 0.7031 - val_loss: 0.9448 - val_accuracy: 0.6599\n",
      "Epoch 25/100\n",
      "890/890 [==============================] - 6s 7ms/step - loss: 0.7891 - accuracy: 0.7047 - val_loss: 0.9324 - val_accuracy: 0.6608\n",
      "Epoch 26/100\n",
      "890/890 [==============================] - 6s 7ms/step - loss: 0.7802 - accuracy: 0.7082 - val_loss: 0.9338 - val_accuracy: 0.6608\n",
      "Epoch 27/100\n",
      "890/890 [==============================] - 6s 7ms/step - loss: 0.7760 - accuracy: 0.7099 - val_loss: 0.9287 - val_accuracy: 0.6639\n",
      "Epoch 28/100\n",
      "890/890 [==============================] - 6s 7ms/step - loss: 0.7697 - accuracy: 0.7127 - val_loss: 0.9316 - val_accuracy: 0.6670\n",
      "Epoch 29/100\n",
      "890/890 [==============================] - 6s 7ms/step - loss: 0.7603 - accuracy: 0.7167 - val_loss: 0.9468 - val_accuracy: 0.6645\n",
      "Epoch 30/100\n",
      "890/890 [==============================] - 6s 7ms/step - loss: 0.7573 - accuracy: 0.7166 - val_loss: 0.9310 - val_accuracy: 0.6639\n",
      "Epoch 31/100\n",
      "890/890 [==============================] - 6s 7ms/step - loss: 0.7488 - accuracy: 0.7204 - val_loss: 0.9357 - val_accuracy: 0.6632\n",
      "Epoch 32/100\n",
      "890/890 [==============================] - 6s 7ms/step - loss: 0.7454 - accuracy: 0.7227 - val_loss: 0.9328 - val_accuracy: 0.6693\n",
      "Epoch 33/100\n",
      "890/890 [==============================] - 6s 7ms/step - loss: 0.7402 - accuracy: 0.7241 - val_loss: 0.9354 - val_accuracy: 0.6704\n",
      "Epoch 34/100\n",
      "890/890 [==============================] - 6s 7ms/step - loss: 0.7351 - accuracy: 0.7263 - val_loss: 0.9322 - val_accuracy: 0.6676\n",
      "Epoch 35/100\n",
      "890/890 [==============================] - 6s 7ms/step - loss: 0.7300 - accuracy: 0.7280 - val_loss: 0.9376 - val_accuracy: 0.6678\n",
      "Epoch 36/100\n",
      "890/890 [==============================] - 6s 7ms/step - loss: 0.7241 - accuracy: 0.7304 - val_loss: 0.9374 - val_accuracy: 0.6682\n",
      "Epoch 37/100\n",
      "890/890 [==============================] - 6s 7ms/step - loss: 0.7214 - accuracy: 0.7306 - val_loss: 0.9442 - val_accuracy: 0.6675\n",
      "Epoch 38/100\n",
      "890/890 [==============================] - 6s 7ms/step - loss: 0.7148 - accuracy: 0.7338 - val_loss: 0.9491 - val_accuracy: 0.6669\n",
      "Epoch 39/100\n",
      "890/890 [==============================] - 6s 7ms/step - loss: 0.7112 - accuracy: 0.7355 - val_loss: 0.9330 - val_accuracy: 0.6706\n",
      "Epoch 40/100\n",
      "890/890 [==============================] - 6s 7ms/step - loss: 0.7101 - accuracy: 0.7359 - val_loss: 0.9458 - val_accuracy: 0.6724\n",
      "Epoch 41/100\n",
      "890/890 [==============================] - 6s 7ms/step - loss: 0.7032 - accuracy: 0.7388 - val_loss: 0.9508 - val_accuracy: 0.6706\n",
      "Epoch 42/100\n",
      "890/890 [==============================] - 6s 7ms/step - loss: 0.6991 - accuracy: 0.7399 - val_loss: 0.9409 - val_accuracy: 0.6716\n",
      "Epoch 43/100\n",
      "890/890 [==============================] - 6s 7ms/step - loss: 0.6960 - accuracy: 0.7417 - val_loss: 0.9512 - val_accuracy: 0.6743\n",
      "Epoch 44/100\n",
      "890/890 [==============================] - 6s 7ms/step - loss: 0.6934 - accuracy: 0.7413 - val_loss: 0.9353 - val_accuracy: 0.6772\n",
      "Epoch 45/100\n",
      "890/890 [==============================] - 6s 7ms/step - loss: 0.6880 - accuracy: 0.7444 - val_loss: 0.9497 - val_accuracy: 0.6718\n",
      "Epoch 46/100\n",
      "890/890 [==============================] - 6s 7ms/step - loss: 0.6866 - accuracy: 0.7447 - val_loss: 0.9484 - val_accuracy: 0.6723\n",
      "Epoch 47/100\n",
      "890/890 [==============================] - 6s 7ms/step - loss: 0.6801 - accuracy: 0.7475 - val_loss: 0.9623 - val_accuracy: 0.6695\n",
      "Epoch 48/100\n",
      "890/890 [==============================] - 6s 7ms/step - loss: 0.6794 - accuracy: 0.7476 - val_loss: 0.9331 - val_accuracy: 0.6735\n",
      "Epoch 49/100\n",
      "890/890 [==============================] - 6s 7ms/step - loss: 0.6745 - accuracy: 0.7496 - val_loss: 0.9429 - val_accuracy: 0.6756\n",
      "Epoch 50/100\n",
      "890/890 [==============================] - 6s 7ms/step - loss: 0.6733 - accuracy: 0.7500 - val_loss: 0.9262 - val_accuracy: 0.6778\n",
      "Epoch 51/100\n",
      "890/890 [==============================] - 6s 7ms/step - loss: 0.6686 - accuracy: 0.7514 - val_loss: 0.9437 - val_accuracy: 0.6759\n",
      "Epoch 52/100\n",
      "890/890 [==============================] - 6s 7ms/step - loss: 0.6660 - accuracy: 0.7526 - val_loss: 0.9465 - val_accuracy: 0.6747\n",
      "Epoch 53/100\n",
      "890/890 [==============================] - 6s 7ms/step - loss: 0.6606 - accuracy: 0.7551 - val_loss: 0.9525 - val_accuracy: 0.6788\n",
      "Epoch 54/100\n",
      "890/890 [==============================] - 6s 7ms/step - loss: 0.6580 - accuracy: 0.7556 - val_loss: 0.9466 - val_accuracy: 0.6748\n",
      "Epoch 55/100\n",
      "890/890 [==============================] - 6s 7ms/step - loss: 0.6579 - accuracy: 0.7560 - val_loss: 0.9592 - val_accuracy: 0.6744\n",
      "Epoch 56/100\n",
      "890/890 [==============================] - 6s 7ms/step - loss: 0.6531 - accuracy: 0.7581 - val_loss: 0.9500 - val_accuracy: 0.6806\n",
      "Epoch 57/100\n",
      "890/890 [==============================] - 6s 7ms/step - loss: 0.6532 - accuracy: 0.7583 - val_loss: 0.9516 - val_accuracy: 0.6734\n"
     ]
    },
    {
     "name": "stdout",
     "output_type": "stream",
     "text": [
      "Epoch 58/100\n",
      "890/890 [==============================] - 6s 7ms/step - loss: 0.6522 - accuracy: 0.7584 - val_loss: 0.9494 - val_accuracy: 0.6729\n",
      "Epoch 59/100\n",
      "890/890 [==============================] - 6s 7ms/step - loss: 0.6481 - accuracy: 0.7599 - val_loss: 0.9588 - val_accuracy: 0.6774\n",
      "Epoch 60/100\n",
      "890/890 [==============================] - 6s 7ms/step - loss: 0.6440 - accuracy: 0.7626 - val_loss: 0.9608 - val_accuracy: 0.6765\n",
      "Epoch 61/100\n",
      "890/890 [==============================] - 6s 7ms/step - loss: 0.6416 - accuracy: 0.7628 - val_loss: 0.9465 - val_accuracy: 0.6793\n",
      "Epoch 62/100\n",
      "890/890 [==============================] - 6s 7ms/step - loss: 0.6391 - accuracy: 0.7641 - val_loss: 0.9444 - val_accuracy: 0.6793\n",
      "Epoch 63/100\n",
      "890/890 [==============================] - 6s 7ms/step - loss: 0.6386 - accuracy: 0.7642 - val_loss: 0.9466 - val_accuracy: 0.6783\n",
      "Epoch 64/100\n",
      "890/890 [==============================] - 6s 7ms/step - loss: 0.6353 - accuracy: 0.7645 - val_loss: 0.9455 - val_accuracy: 0.6828\n",
      "Epoch 65/100\n",
      "890/890 [==============================] - 6s 7ms/step - loss: 0.6335 - accuracy: 0.7660 - val_loss: 0.9585 - val_accuracy: 0.6777\n",
      "Epoch 66/100\n",
      "890/890 [==============================] - 6s 7ms/step - loss: 0.6352 - accuracy: 0.7655 - val_loss: 0.9521 - val_accuracy: 0.6781\n",
      "Epoch 67/100\n",
      "890/890 [==============================] - 6s 7ms/step - loss: 0.6283 - accuracy: 0.7672 - val_loss: 0.9538 - val_accuracy: 0.6811\n",
      "Epoch 68/100\n",
      "890/890 [==============================] - 6s 7ms/step - loss: 0.6278 - accuracy: 0.7678 - val_loss: 0.9688 - val_accuracy: 0.6750\n",
      "Epoch 69/100\n",
      "890/890 [==============================] - 6s 7ms/step - loss: 0.6260 - accuracy: 0.7680 - val_loss: 0.9620 - val_accuracy: 0.6810\n",
      "Epoch 70/100\n",
      "890/890 [==============================] - 6s 7ms/step - loss: 0.6205 - accuracy: 0.7701 - val_loss: 0.9678 - val_accuracy: 0.6791\n",
      "Epoch 71/100\n",
      "890/890 [==============================] - 6s 7ms/step - loss: 0.6218 - accuracy: 0.7696 - val_loss: 0.9575 - val_accuracy: 0.6795\n",
      "Epoch 72/100\n",
      "890/890 [==============================] - 6s 7ms/step - loss: 0.6200 - accuracy: 0.7715 - val_loss: 0.9595 - val_accuracy: 0.6766\n",
      "Epoch 73/100\n",
      "890/890 [==============================] - 6s 7ms/step - loss: 0.6180 - accuracy: 0.7711 - val_loss: 0.9513 - val_accuracy: 0.6825\n",
      "Epoch 74/100\n",
      "890/890 [==============================] - 6s 7ms/step - loss: 0.6165 - accuracy: 0.7726 - val_loss: 0.9667 - val_accuracy: 0.6795\n",
      "Epoch 75/100\n",
      "890/890 [==============================] - 6s 7ms/step - loss: 0.6140 - accuracy: 0.7737 - val_loss: 0.9633 - val_accuracy: 0.6836\n",
      "Epoch 76/100\n",
      "890/890 [==============================] - 6s 7ms/step - loss: 0.6114 - accuracy: 0.7744 - val_loss: 0.9528 - val_accuracy: 0.6855\n",
      "Epoch 77/100\n",
      "890/890 [==============================] - 6s 7ms/step - loss: 0.6100 - accuracy: 0.7753 - val_loss: 0.9570 - val_accuracy: 0.6770\n",
      "Epoch 78/100\n",
      "890/890 [==============================] - 6s 7ms/step - loss: 0.6083 - accuracy: 0.7757 - val_loss: 0.9727 - val_accuracy: 0.6756\n",
      "Epoch 79/100\n",
      "890/890 [==============================] - 6s 7ms/step - loss: 0.6099 - accuracy: 0.7756 - val_loss: 0.9517 - val_accuracy: 0.6814\n",
      "Epoch 80/100\n",
      "890/890 [==============================] - 6s 7ms/step - loss: 0.6056 - accuracy: 0.7763 - val_loss: 0.9663 - val_accuracy: 0.6838\n",
      "Epoch 81/100\n",
      "890/890 [==============================] - 6s 7ms/step - loss: 0.6049 - accuracy: 0.7764 - val_loss: 0.9616 - val_accuracy: 0.6852\n",
      "Epoch 82/100\n",
      "890/890 [==============================] - 6s 7ms/step - loss: 0.6022 - accuracy: 0.7784 - val_loss: 0.9645 - val_accuracy: 0.6797\n",
      "Epoch 83/100\n",
      "890/890 [==============================] - 6s 7ms/step - loss: 0.6038 - accuracy: 0.7758 - val_loss: 0.9612 - val_accuracy: 0.6833\n",
      "Epoch 84/100\n",
      "890/890 [==============================] - 6s 7ms/step - loss: 0.5988 - accuracy: 0.7798 - val_loss: 0.9400 - val_accuracy: 0.6832\n",
      "Epoch 85/100\n",
      "890/890 [==============================] - 6s 7ms/step - loss: 0.5973 - accuracy: 0.7794 - val_loss: 0.9487 - val_accuracy: 0.6828\n",
      "Epoch 86/100\n",
      "890/890 [==============================] - 6s 7ms/step - loss: 0.5976 - accuracy: 0.7800 - val_loss: 0.9609 - val_accuracy: 0.6834\n",
      "Epoch 87/100\n",
      "890/890 [==============================] - 6s 7ms/step - loss: 0.5955 - accuracy: 0.7804 - val_loss: 0.9784 - val_accuracy: 0.6789\n",
      "Epoch 88/100\n",
      "890/890 [==============================] - 6s 7ms/step - loss: 0.5961 - accuracy: 0.7799 - val_loss: 0.9465 - val_accuracy: 0.6826\n",
      "Epoch 89/100\n",
      "890/890 [==============================] - 6s 7ms/step - loss: 0.5907 - accuracy: 0.7825 - val_loss: 0.9621 - val_accuracy: 0.6810\n",
      "Epoch 90/100\n",
      "890/890 [==============================] - 6s 7ms/step - loss: 0.5934 - accuracy: 0.7813 - val_loss: 0.9561 - val_accuracy: 0.6838\n",
      "Epoch 91/100\n",
      "890/890 [==============================] - 6s 7ms/step - loss: 0.5920 - accuracy: 0.7820 - val_loss: 0.9675 - val_accuracy: 0.6872\n",
      "Epoch 92/100\n",
      "890/890 [==============================] - 6s 7ms/step - loss: 0.5875 - accuracy: 0.7835 - val_loss: 0.9591 - val_accuracy: 0.6791\n",
      "Epoch 93/100\n",
      "890/890 [==============================] - 6s 7ms/step - loss: 0.5859 - accuracy: 0.7841 - val_loss: 0.9843 - val_accuracy: 0.6775\n",
      "Epoch 94/100\n",
      "890/890 [==============================] - 6s 7ms/step - loss: 0.5872 - accuracy: 0.7833 - val_loss: 0.9804 - val_accuracy: 0.6846\n",
      "Epoch 95/100\n",
      "890/890 [==============================] - 6s 7ms/step - loss: 0.5866 - accuracy: 0.7833 - val_loss: 0.9640 - val_accuracy: 0.6826\n",
      "Epoch 96/100\n",
      "890/890 [==============================] - 6s 7ms/step - loss: 0.5844 - accuracy: 0.7854 - val_loss: 0.9664 - val_accuracy: 0.6854\n",
      "Epoch 97/100\n",
      "890/890 [==============================] - 6s 7ms/step - loss: 0.5823 - accuracy: 0.7856 - val_loss: 0.9770 - val_accuracy: 0.6838\n",
      "Epoch 98/100\n",
      "890/890 [==============================] - 6s 7ms/step - loss: 0.5815 - accuracy: 0.7861 - val_loss: 0.9675 - val_accuracy: 0.6849\n",
      "Epoch 99/100\n",
      "890/890 [==============================] - 6s 7ms/step - loss: 0.5812 - accuracy: 0.7858 - val_loss: 0.9904 - val_accuracy: 0.6809\n",
      "Epoch 100/100\n",
      "890/890 [==============================] - 6s 7ms/step - loss: 0.5820 - accuracy: 0.7857 - val_loss: 0.9529 - val_accuracy: 0.6859\n"
     ]
    }
   ],
   "source": [
    "hist = model.fit(x = xx , y = yy, epochs=100, validation_data =(xv, yv), batch_size= 256)\n"
   ]
  },
  {
   "cell_type": "code",
   "execution_count": 54,
   "metadata": {},
   "outputs": [
    {
     "name": "stdout",
     "output_type": "stream",
     "text": [
      "1288/1288 [==============================] - 2s 1ms/step - loss: 0.9368 - accuracy: 0.6920\n"
     ]
    }
   ],
   "source": [
    "h = model.evaluate(xt,yt)"
   ]
  },
  {
   "cell_type": "code",
   "execution_count": null,
   "metadata": {},
   "outputs": [],
   "source": []
  },
  {
   "cell_type": "code",
   "execution_count": null,
   "metadata": {},
   "outputs": [],
   "source": []
  }
 ],
 "metadata": {
  "kernelspec": {
   "display_name": "Python 3",
   "language": "python",
   "name": "python3"
  },
  "language_info": {
   "codemirror_mode": {
    "name": "ipython",
    "version": 3
   },
   "file_extension": ".py",
   "mimetype": "text/x-python",
   "name": "python",
   "nbconvert_exporter": "python",
   "pygments_lexer": "ipython3",
   "version": "3.8.3"
  }
 },
 "nbformat": 4,
 "nbformat_minor": 4
}
