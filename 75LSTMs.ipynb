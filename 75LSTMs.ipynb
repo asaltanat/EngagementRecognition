{
 "cells": [
  {
   "cell_type": "code",
   "execution_count": 2,
   "metadata": {},
   "outputs": [],
   "source": [
    "from keras.layers import Dense, LSTM, GRU, Dropout, Flatten, Embedding,  BatchNormalization\n",
    "from keras.layers.convolutional import Conv1D, MaxPooling1D\n",
    "import tensorflow as tf\n",
    "import numpy as np\n",
    "import pandas as pd\n",
    "from matplotlib import pyplot as plt\n",
    "import keras\n",
    "from keras.models import Model,Sequential\n",
    "from keras.utils import to_categorical\n",
    "from keras import regularizers\n",
    "from keras.optimizers import SGD\n",
    "from clr_callback import *\n",
    "%matplotlib inline\n",
    "import time\n",
    "import pickle\n",
    "import os\n",
    "import math\n",
    "import torch.nn as nn\n",
    "from torch.nn.modules.utils import _triple\n",
    "from keras.utils import to_categorical\n",
    "import tensorflow as tf\n",
    "from keras.callbacks import EarlyStopping\n",
    "from tensorflow import keras\n",
    "from sklearn.model_selection import train_test_split\n",
    "from sklearn.metrics import confusion_matrix, classification_report\n",
    "\n"
   ]
  },
  {
   "cell_type": "code",
   "execution_count": 3,
   "metadata": {},
   "outputs": [],
   "source": [
    "physical_devices = tf.config.list_physical_devices('GPU') \n",
    "tf.config.experimental.set_memory_growth(physical_devices[0], True)"
   ]
  },
  {
   "cell_type": "code",
   "execution_count": 4,
   "metadata": {},
   "outputs": [],
   "source": [
    "SPLIT_METHOD_child = \"CHILD\"\n",
    "SPLIT_METHOD_session = \"SESSION\"\n",
    "SPLIT_METHOD_random = \"RANDOM\"\n",
    "\n",
    "# WITH FACE, BODY, HANDS (411) =>\n",
    "FEAT_NUM_all = 201\n",
    "\n",
    "# WITH BODY AND HANDS (201) =>\n",
    "FEAT_NUM_body = (25 + 21 + 21) * 3\n",
    "\n",
    "# WITH FACE ONLY (210) =>\n",
    "FEAT_NUM_face = 70 * 3\n",
    "\n",
    "SEQ_LENGTH = 1\n",
    "\n",
    "NB_CLASS = 6\n",
    "CSV_FILE = \"ASD_36_res1.csv\"\n",
    "VARS_DIR = \"var\"\n"
   ]
  },
  {
   "cell_type": "code",
   "execution_count": 5,
   "metadata": {},
   "outputs": [],
   "source": [
    "import pandas\n",
    "data = pandas.read_csv('ASD_36_res1.csv')"
   ]
  },
  {
   "cell_type": "code",
   "execution_count": 6,
   "metadata": {},
   "outputs": [],
   "source": [
    "X = data.iloc[:, 3:78]\n",
    "y = data['engagement']\n",
    "X_train, X_test, y_train, y_test = train_test_split(X, y, test_size=0.14, random_state=1)"
   ]
  },
  {
   "cell_type": "code",
   "execution_count": 7,
   "metadata": {},
   "outputs": [
    {
     "data": {
      "text/plain": [
       "(253124, 75)"
      ]
     },
     "execution_count": 7,
     "metadata": {},
     "output_type": "execute_result"
    }
   ],
   "source": [
    "X_train.shape\n"
   ]
  },
  {
   "cell_type": "code",
   "execution_count": 8,
   "metadata": {},
   "outputs": [],
   "source": [
    "X_train, X_val, y_train, y_val = train_test_split(X_train, y_train, test_size=0.1, random_state=1)"
   ]
  },
  {
   "cell_type": "code",
   "execution_count": 9,
   "metadata": {},
   "outputs": [
    {
     "name": "stdout",
     "output_type": "stream",
     "text": [
      "(227811, 75)\n",
      "(25313, 75)\n",
      "(41207, 75)\n"
     ]
    }
   ],
   "source": [
    "print(X_train.shape)\n",
    "print(X_val.shape)\n",
    "print(X_test.shape)"
   ]
  },
  {
   "cell_type": "code",
   "execution_count": 10,
   "metadata": {},
   "outputs": [],
   "source": [
    "X_train = X_train.to_numpy()\n",
    "X_test =X_test.to_numpy()\n",
    "X_val = X_val.to_numpy()\n",
    "y_train = y_train.to_numpy()\n",
    "y_test = y_test.to_numpy()\n",
    "y_val = y_val.to_numpy()"
   ]
  },
  {
   "cell_type": "code",
   "execution_count": 11,
   "metadata": {},
   "outputs": [
    {
     "data": {
      "text/plain": [
       "numpy.ndarray"
      ]
     },
     "execution_count": 11,
     "metadata": {},
     "output_type": "execute_result"
    }
   ],
   "source": [
    "type(X_train)"
   ]
  },
  {
   "cell_type": "code",
   "execution_count": 12,
   "metadata": {},
   "outputs": [],
   "source": [
    "\n",
    "early_stop = EarlyStopping(monitor='loss', patience=2)\n"
   ]
  },
  {
   "cell_type": "code",
   "execution_count": 13,
   "metadata": {},
   "outputs": [],
   "source": [
    "xx = tf.convert_to_tensor(X_train.reshape(227811,1 , 75))\n",
    "xv = tf.convert_to_tensor(X_val.reshape(25313, 1, 75))\n",
    "xt = tf.convert_to_tensor(X_test.reshape(41207,1, 75))\n",
    "yy = tf.convert_to_tensor(y_train.reshape(227811, 1))\n",
    "yv = tf.convert_to_tensor(y_val.reshape(25313, 1))\n",
    "yt = tf.convert_to_tensor(y_test.reshape(41207, 1))"
   ]
  },
  {
   "cell_type": "code",
   "execution_count": 14,
   "metadata": {},
   "outputs": [],
   "source": [
    "yy= to_categorical(yy)\n",
    "yv =  to_categorical(yv)\n",
    "yt = to_categorical(yt)"
   ]
  },
  {
   "cell_type": "code",
   "execution_count": 15,
   "metadata": {},
   "outputs": [
    {
     "name": "stdout",
     "output_type": "stream",
     "text": [
      "WARNING:tensorflow:Layer lstm will not use cuDNN kernel since it doesn't meet the cuDNN kernel criteria. It will use generic GPU kernel as fallback when running on GPU\n",
      "WARNING:tensorflow:Layer lstm_1 will not use cuDNN kernel since it doesn't meet the cuDNN kernel criteria. It will use generic GPU kernel as fallback when running on GPU\n",
      "Model: \"sequential\"\n",
      "_________________________________________________________________\n",
      "Layer (type)                 Output Shape              Param #   \n",
      "=================================================================\n",
      "lstm (LSTM)                  (None, 1, 32)             13824     \n",
      "_________________________________________________________________\n",
      "lstm_1 (LSTM)                (None, 32)                8320      \n",
      "_________________________________________________________________\n",
      "dense (Dense)                (None, 128)               4224      \n",
      "_________________________________________________________________\n",
      "dense_1 (Dense)              (None, 64)                8256      \n",
      "_________________________________________________________________\n",
      "dense_2 (Dense)              (None, 128)               8320      \n",
      "_________________________________________________________________\n",
      "dense_3 (Dense)              (None, 256)               33024     \n",
      "_________________________________________________________________\n",
      "dense_4 (Dense)              (None, 128)               32896     \n",
      "_________________________________________________________________\n",
      "dense_5 (Dense)              (None, 64)                8256      \n",
      "_________________________________________________________________\n",
      "dense_6 (Dense)              (None, 16)                1040      \n",
      "_________________________________________________________________\n",
      "dense_7 (Dense)              (None, 6)                 102       \n",
      "=================================================================\n",
      "Total params: 118,262\n",
      "Trainable params: 118,262\n",
      "Non-trainable params: 0\n",
      "_________________________________________________________________\n"
     ]
    }
   ],
   "source": [
    "model = keras.Sequential()\n",
    "model.add(LSTM(32, input_shape=(1, 75), activation =tf.keras.layers.LeakyReLU(alpha=0.1), dropout=0.2, recurrent_dropout = 0.2, return_sequences=True))\n",
    "\n",
    "model.add(LSTM(32, activation = tf.keras.layers.LeakyReLU(alpha=0.1), dropout=0.2, recurrent_dropout = 0.2))\n",
    "\n",
    "model.add(keras.layers.Dense(128, activation=tf.keras.layers.LeakyReLU(alpha=0.1)))\n",
    "\n",
    "model.add(keras.layers.Dense(64, activation=tf.keras.layers.LeakyReLU(alpha=0.1)))\n",
    "\n",
    "model.add(keras.layers.Dense(128, activation=tf.keras.layers.LeakyReLU(alpha=0.1)))\n",
    "\n",
    "model.add(keras.layers.Dense(256, activation=tf.keras.layers.LeakyReLU(alpha=0.1)))\n",
    "\n",
    "model.add(keras.layers.Dense(128, activation=tf.keras.layers.LeakyReLU(alpha=0.1)))\n",
    "\n",
    "model.add(keras.layers.Dense(64, activation=tf.keras.layers.LeakyReLU(alpha=0.1)))\n",
    "\n",
    "model.add(keras.layers.Dense(16, activation=tf.keras.layers.LeakyReLU(alpha=0.1)))\n",
    "model.add(keras.layers.Dense(6, activation='softmax'))\n",
    "model.summary()"
   ]
  },
  {
   "cell_type": "code",
   "execution_count": 16,
   "metadata": {},
   "outputs": [],
   "source": [
    "from keras.optimizers import SGD\n",
    "opt = \"adam\"#SGD(lr=0.001)\n",
    "model.compile(optimizer=opt, loss='categorical_crossentropy', metrics=['accuracy'])\n"
   ]
  },
  {
   "cell_type": "code",
   "execution_count": 17,
   "metadata": {},
   "outputs": [
    {
     "name": "stdout",
     "output_type": "stream",
     "text": [
      "Epoch 1/8\n",
      "7120/7120 [==============================] - 69s 10ms/step - loss: 1.5179 - accuracy: 0.4296 - val_loss: 1.4679 - val_accuracy: 0.4454\n",
      "Epoch 2/8\n",
      "7120/7120 [==============================] - 68s 10ms/step - loss: 1.4712 - accuracy: 0.4461 - val_loss: 1.4721 - val_accuracy: 0.4406\n",
      "Epoch 3/8\n",
      "7120/7120 [==============================] - 71s 10ms/step - loss: 1.4605 - accuracy: 0.4468 - val_loss: 1.4514 - val_accuracy: 0.4452\n",
      "Epoch 4/8\n",
      "7120/7120 [==============================] - 70s 10ms/step - loss: 1.4528 - accuracy: 0.4482 - val_loss: 1.4490 - val_accuracy: 0.4472\n",
      "Epoch 5/8\n",
      "7120/7120 [==============================] - 70s 10ms/step - loss: 1.4504 - accuracy: 0.4487 - val_loss: 1.4480 - val_accuracy: 0.4463\n",
      "Epoch 6/8\n",
      "7120/7120 [==============================] - 73s 10ms/step - loss: 1.4469 - accuracy: 0.4499 - val_loss: 1.4441 - val_accuracy: 0.4440\n",
      "Epoch 7/8\n",
      "7120/7120 [==============================] - 71s 10ms/step - loss: 1.4451 - accuracy: 0.4504 - val_loss: 1.4344 - val_accuracy: 0.4483\n",
      "Epoch 8/8\n",
      "7120/7120 [==============================] - 71s 10ms/step - loss: 1.4449 - accuracy: 0.4503 - val_loss: 1.4339 - val_accuracy: 0.4496\n"
     ]
    }
   ],
   "source": [
    "hist = model.fit(x = xx , y = yy, epochs=8, validation_data =(xv, yv), batch_size= 32)\n"
   ]
  },
  {
   "cell_type": "code",
   "execution_count": 18,
   "metadata": {},
   "outputs": [
    {
     "name": "stdout",
     "output_type": "stream",
     "text": [
      "1288/1288 [==============================] - 2s 2ms/step - loss: 1.4181 - accuracy: 0.4585\n"
     ]
    }
   ],
   "source": [
    "h = model.evaluate(xt,yt)"
   ]
  },
  {
   "cell_type": "code",
   "execution_count": null,
   "metadata": {},
   "outputs": [],
   "source": []
  },
  {
   "cell_type": "code",
   "execution_count": null,
   "metadata": {},
   "outputs": [],
   "source": []
  }
 ],
 "metadata": {
  "kernelspec": {
   "display_name": "Python 3",
   "language": "python",
   "name": "python3"
  },
  "language_info": {
   "codemirror_mode": {
    "name": "ipython",
    "version": 3
   },
   "file_extension": ".py",
   "mimetype": "text/x-python",
   "name": "python",
   "nbconvert_exporter": "python",
   "pygments_lexer": "ipython3",
   "version": "3.8.3"
  }
 },
 "nbformat": 4,
 "nbformat_minor": 4
}
